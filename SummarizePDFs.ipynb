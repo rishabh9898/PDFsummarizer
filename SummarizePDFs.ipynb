{
  "nbformat": 4,
  "nbformat_minor": 0,
  "metadata": {
    "colab": {
      "name": "SummarizePDFs.ipynb",
      "provenance": [],
      "authorship_tag": "ABX9TyOQJm8jYXPvQze93vMM+LH3",
      "include_colab_link": true
    },
    "kernelspec": {
      "name": "python3",
      "display_name": "Python 3"
    },
    "language_info": {
      "name": "python"
    }
  },
  "cells": [
    {
      "cell_type": "markdown",
      "metadata": {
        "id": "view-in-github",
        "colab_type": "text"
      },
      "source": [
        "<a href=\"https://colab.research.google.com/github/rishabh9898/webdev/blob/master/SummarizePDFs.ipynb\" target=\"_parent\"><img src=\"https://colab.research.google.com/assets/colab-badge.svg\" alt=\"Open In Colab\"/></a>"
      ]
    },
    {
      "cell_type": "code",
      "execution_count": null,
      "metadata": {
        "id": "sP9TOpPtWlKw"
      },
      "outputs": [],
      "source": [
        "pip install bert-extractive-summarizer\n"
      ]
    },
    {
      "cell_type": "code",
      "source": [
        "pip install torchvision"
      ],
      "metadata": {
        "id": "cp2AX37nWrDv"
      },
      "execution_count": null,
      "outputs": []
    },
    {
      "cell_type": "code",
      "source": [
        "pip install -U -q PyDrive\n"
      ],
      "metadata": {
        "id": "FtVZvEVOWrfE"
      },
      "execution_count": null,
      "outputs": []
    },
    {
      "cell_type": "code",
      "source": [
        "pip install PyPDF2"
      ],
      "metadata": {
        "id": "2n0lPWLBWyAC"
      },
      "execution_count": null,
      "outputs": []
    },
    {
      "cell_type": "code",
      "source": [
        "pip install sentence-transformers"
      ],
      "metadata": {
        "id": "9OEeH7I5Wydj"
      },
      "execution_count": null,
      "outputs": []
    },
    {
      "cell_type": "code",
      "source": [
        "import re\n",
        "import string\n",
        "import torch\n",
        "import PyPDF2\n",
        "from termcolor import colored\n",
        "import json\n",
        "import os\n",
        "from sentence_transformers import SentenceTransformer, util\n",
        "from summarizer import Summarizer\n",
        "import pickle\n"
      ],
      "metadata": {
        "id": "Yc9W4x0OW0Fd"
      },
      "execution_count": null,
      "outputs": []
    },
    {
      "cell_type": "code",
      "source": [
        "\n",
        "def preprocess (text):\n",
        "  str_punctuation=string.punctuation.replace('.','')\n",
        "  text=text.lower()\n",
        "  text = re.sub(r'^https?:\\/\\/.*[\\r\\n]*', '', text, flags=re.MULTILINE)\n",
        "  #text = text.translate(str.maketrans('', '', str_punctuation))\n",
        "  text=\" \".join(filter(lambda x:x[0]!='[', text.split()))\n",
        "  text = text.replace('\\n','')\n",
        "  text= text.replace('\\t','')\n",
        "  text=re.sub(' +', ' ', text)\n",
        "  return text"
      ],
      "metadata": {
        "id": "1N2wBPBHW17_"
      },
      "execution_count": null,
      "outputs": []
    },
    {
      "cell_type": "code",
      "source": [
        "import PyPDF2\n",
        "from PyPDF2 import PdfFileReader, PdfFileWriter\n"
      ],
      "metadata": {
        "id": "PoYJ_tYhW4f4"
      },
      "execution_count": null,
      "outputs": []
    },
    {
      "cell_type": "code",
      "source": [
        "from google.colab import files\n",
        "uploaded = files.upload()"
      ],
      "metadata": {
        "id": "KdRtAzv2W6TZ"
      },
      "execution_count": null,
      "outputs": []
    },
    {
      "cell_type": "code",
      "source": [
        "\n",
        "# creating a pdf file object \n",
        "\n",
        "pdfFileObj = open('/content/Lesson20A-Databases.pdf', 'rb') \n",
        "\n",
        "pdf= PdfFileReader(pdfFileObj)\n",
        "\n",
        "num_pages= pdf.getNumPages()\n",
        "\n",
        "text=''\n",
        "\n",
        "for i in range(num_pages):\n",
        "  page=pdf.getPage(i)\n",
        "  text=text+page.extractText()\n",
        "text = preprocess(text)"
      ],
      "metadata": {
        "id": "Xdkg0FBhW8ZQ"
      },
      "execution_count": null,
      "outputs": []
    },
    {
      "cell_type": "code",
      "source": [
        "text"
      ],
      "metadata": {
        "id": "Rvgxb3rPW-PZ"
      },
      "execution_count": null,
      "outputs": []
    },
    {
      "cell_type": "code",
      "source": [
        "bert_model = Summarizer()"
      ],
      "metadata": {
        "id": "I-mRMgWHXAc-"
      },
      "execution_count": null,
      "outputs": []
    },
    {
      "cell_type": "code",
      "source": [
        "\n",
        "bert_summary = ''.join(bert_model(text, min_length=150))"
      ],
      "metadata": {
        "id": "h-QCcNOCXBzk"
      },
      "execution_count": null,
      "outputs": []
    },
    {
      "cell_type": "code",
      "source": [
        "bert_summary"
      ],
      "metadata": {
        "id": "cFrVKRMXXEd3"
      },
      "execution_count": null,
      "outputs": []
    }
  ]
}